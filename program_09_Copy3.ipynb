{
  "nbformat": 4,
  "nbformat_minor": 0,
  "metadata": {
    "kernelspec": {
      "display_name": "Python 3",
      "language": "python",
      "name": "python3"
    },
    "language_info": {
      "codemirror_mode": {
        "name": "ipython",
        "version": 3
      },
      "file_extension": ".py",
      "mimetype": "text/x-python",
      "name": "python",
      "nbconvert_exporter": "python",
      "pygments_lexer": "ipython3",
      "version": "3.7.6"
    },
    "colab": {
      "name": "program.09-Copy3.ipynb",
      "provenance": [],
      "include_colab_link": true
    }
  },
  "cells": [
    {
      "cell_type": "markdown",
      "metadata": {
        "id": "view-in-github",
        "colab_type": "text"
      },
      "source": [
        "<a href=\"https://colab.research.google.com/github/radha04/practice_file/blob/master/program_09_Copy3.ipynb\" target=\"_parent\"><img src=\"https://colab.research.google.com/assets/colab-badge.svg\" alt=\"Open In Colab\"/></a>"
      ]
    },
    {
      "cell_type": "code",
      "metadata": {
        "id": "F9Q3ghXlsHvD",
        "colab_type": "code",
        "colab": {},
        "outputId": "09fd95e0-cc74-4c17-a095-397e5fe097de"
      },
      "source": [
        "str = 'radha'\n",
        "print(str)\n"
      ],
      "execution_count": null,
      "outputs": [
        {
          "output_type": "stream",
          "text": [
            "radha\n"
          ],
          "name": "stdout"
        }
      ]
    },
    {
      "cell_type": "code",
      "metadata": {
        "id": "mvNFuhdOsHvM",
        "colab_type": "code",
        "colab": {},
        "outputId": "fc9eb497-30a2-4203-c86f-cb41e2b79bdd"
      },
      "source": [
        "a = '''good evening'''\n",
        "print(a)"
      ],
      "execution_count": null,
      "outputs": [
        {
          "output_type": "stream",
          "text": [
            "good evening\n"
          ],
          "name": "stdout"
        }
      ]
    },
    {
      "cell_type": "code",
      "metadata": {
        "id": "GORIqLFqsHvR",
        "colab_type": "code",
        "colab": {},
        "outputId": "b98b7481-59fe-4a59-c056-170f6dce2d47"
      },
      "source": [
        "a = 'hello radha'\n",
        "print(a[2])"
      ],
      "execution_count": null,
      "outputs": [
        {
          "output_type": "stream",
          "text": [
            "l\n"
          ],
          "name": "stdout"
        }
      ]
    },
    {
      "cell_type": "code",
      "metadata": {
        "id": "kGkH8urQsHvV",
        "colab_type": "code",
        "colab": {},
        "outputId": "df746b25-8f36-4642-c7d0-259745294bbd"
      },
      "source": [
        "a = 'helloradha'\n",
        "print(a[2:8])"
      ],
      "execution_count": null,
      "outputs": [
        {
          "output_type": "stream",
          "text": [
            "llorad\n"
          ],
          "name": "stdout"
        }
      ]
    },
    {
      "cell_type": "code",
      "metadata": {
        "id": "xt7VWthgsHva",
        "colab_type": "code",
        "colab": {},
        "outputId": "5b4919ec-ea15-4642-9af1-067917e275c4"
      },
      "source": [
        "a = 'helloradha!'\n",
        "print(a[-7:-1])"
      ],
      "execution_count": null,
      "outputs": [
        {
          "output_type": "stream",
          "text": [
            "oradha\n"
          ],
          "name": "stdout"
        }
      ]
    },
    {
      "cell_type": "code",
      "metadata": {
        "id": "me_A-Ia4sHve",
        "colab_type": "code",
        "colab": {},
        "outputId": "e21cea76-97ac-4e37-c9a5-06e6a3a92a26"
      },
      "source": [
        "a = 'hello radha'\n",
        "print(len(a))"
      ],
      "execution_count": null,
      "outputs": [
        {
          "output_type": "stream",
          "text": [
            "11\n"
          ],
          "name": "stdout"
        }
      ]
    },
    {
      "cell_type": "code",
      "metadata": {
        "id": "mWuJK8IUsHvj",
        "colab_type": "code",
        "colab": {},
        "outputId": "7a9f452a-b105-43ce-f6cc-aecbf5a18998"
      },
      "source": [
        "a = '  hello radha  '\n",
        "print(a.strip())"
      ],
      "execution_count": null,
      "outputs": [
        {
          "output_type": "stream",
          "text": [
            "hello radha\n"
          ],
          "name": "stdout"
        }
      ]
    },
    {
      "cell_type": "code",
      "metadata": {
        "id": "3u96XmgxsHvs",
        "colab_type": "code",
        "colab": {},
        "outputId": "50d67205-2c49-4c3d-b617-2d21b3a035f0"
      },
      "source": [
        "a = 'RADHA'\n",
        "print(a.lower())"
      ],
      "execution_count": null,
      "outputs": [
        {
          "output_type": "stream",
          "text": [
            "radha\n"
          ],
          "name": "stdout"
        }
      ]
    },
    {
      "cell_type": "code",
      "metadata": {
        "id": "g2BAV2zPsHv3",
        "colab_type": "code",
        "colab": {},
        "outputId": "a77be57d-e6f2-4c91-8991-c9bf98ab1211"
      },
      "source": [
        "a = 'radha'\n",
        "print(a.upper())"
      ],
      "execution_count": null,
      "outputs": [
        {
          "output_type": "stream",
          "text": [
            "RADHA\n"
          ],
          "name": "stdout"
        }
      ]
    },
    {
      "cell_type": "code",
      "metadata": {
        "id": "zwv_MBRcsHv9",
        "colab_type": "code",
        "colab": {},
        "outputId": "876fb544-4f70-4285-f012-0248b93def02"
      },
      "source": [
        "a = 'hello radha'\n",
        "print(a.replace('h', 'j'))"
      ],
      "execution_count": null,
      "outputs": [
        {
          "output_type": "stream",
          "text": [
            "jello radja\n"
          ],
          "name": "stdout"
        }
      ]
    },
    {
      "cell_type": "code",
      "metadata": {
        "id": "y8gcDXANsHwC",
        "colab_type": "code",
        "colab": {},
        "outputId": "8c661863-9213-4cd3-a6c3-a6ea52346105"
      },
      "source": [
        "a = 'how are you'\n",
        "print(a.split())"
      ],
      "execution_count": null,
      "outputs": [
        {
          "output_type": "stream",
          "text": [
            "['how', 'are', 'you']\n"
          ],
          "name": "stdout"
        }
      ]
    },
    {
      "cell_type": "code",
      "metadata": {
        "id": "bqa6G1qYsHwI",
        "colab_type": "code",
        "colab": {},
        "outputId": "9dfce528-7876-4847-c58c-244341b1bf9b"
      },
      "source": [
        "xyz = \"this is radha\"\n",
        "abc = \"is\" not in xyz\n",
        "print(abc)"
      ],
      "execution_count": null,
      "outputs": [
        {
          "output_type": "stream",
          "text": [
            "False\n"
          ],
          "name": "stdout"
        }
      ]
    },
    {
      "cell_type": "code",
      "metadata": {
        "id": "IVI1Z5UjsHwN",
        "colab_type": "code",
        "colab": {},
        "outputId": "699f0033-5701-474e-ea21-c9be75c1bc2f"
      },
      "source": [
        "xyz = \"this is radha\"\n",
        "abc = \"is\" in xyz\n",
        "print(abc)"
      ],
      "execution_count": null,
      "outputs": [
        {
          "output_type": "stream",
          "text": [
            "True\n"
          ],
          "name": "stdout"
        }
      ]
    },
    {
      "cell_type": "code",
      "metadata": {
        "id": "NJeE1ARXsHwS",
        "colab_type": "code",
        "colab": {},
        "outputId": "4ed6d8ca-dbef-44f2-87f8-fe125655f59f"
      },
      "source": [
        "y = 'how is '\n",
        "z = 'your day'\n",
        "x = y + z\n",
        "print(x)"
      ],
      "execution_count": null,
      "outputs": [
        {
          "output_type": "stream",
          "text": [
            "how is your day\n"
          ],
          "name": "stdout"
        }
      ]
    },
    {
      "cell_type": "code",
      "metadata": {
        "id": "9rvnQtqJsHwZ",
        "colab_type": "code",
        "colab": {},
        "outputId": "d992fe97-b888-4bc5-8d19-52abfd4fe838"
      },
      "source": [
        "a = \"frnd\"\n",
        "b = \"ship\"\n",
        "c = a + \" \" + b\n",
        "print(c)"
      ],
      "execution_count": null,
      "outputs": [
        {
          "output_type": "stream",
          "text": [
            "frnd ship\n"
          ],
          "name": "stdout"
        }
      ]
    },
    {
      "cell_type": "code",
      "metadata": {
        "id": "gjlDX9ZTsHwe",
        "colab_type": "code",
        "colab": {},
        "outputId": "a7e7dff2-988f-4060-da4c-f9a01fb2ab87"
      },
      "source": [
        "age = 20\n",
        "xyz = \"My name is radha, and I am {}\"\n",
        "print(xyz.format(age))\n"
      ],
      "execution_count": null,
      "outputs": [
        {
          "output_type": "stream",
          "text": [
            "My name is radha, and I am 20\n"
          ],
          "name": "stdout"
        }
      ]
    },
    {
      "cell_type": "code",
      "metadata": {
        "id": "rV2O4y3usHwi",
        "colab_type": "code",
        "colab": {},
        "outputId": "1526d567-f147-4917-ab99-d986602ec48b"
      },
      "source": [
        "number = 3\n",
        "clothes = 567\n",
        "price = 49.95\n",
        "myorder = \"I want {0} pieces of item {1} for {2} dollars.\"\n",
        "print(myorder.format(number,clothes, price))\n"
      ],
      "execution_count": null,
      "outputs": [
        {
          "output_type": "stream",
          "text": [
            "I want 3 pieces of item 567 for 49.95 dollars.\n"
          ],
          "name": "stdout"
        }
      ]
    },
    {
      "cell_type": "code",
      "metadata": {
        "id": "fRKRgvBesHwm",
        "colab_type": "code",
        "colab": {},
        "outputId": "f58a7db8-e709-4c77-dba1-5cc45a505f71"
      },
      "source": [
        "quantity = 3\n",
        "itemno = 567\n",
        "price = 49.95\n",
        "myorder = \"I want {} pieces of item {} for {} dollars.\"\n",
        "print(myorder.format(quantity, itemno, price))"
      ],
      "execution_count": null,
      "outputs": [
        {
          "output_type": "stream",
          "text": [
            "I want 3 pieces of item 567 for 49.95 dollars.\n"
          ],
          "name": "stdout"
        }
      ]
    },
    {
      "cell_type": "code",
      "metadata": {
        "id": "Gtf-UtYosHwu",
        "colab_type": "code",
        "colab": {},
        "outputId": "483514eb-efd9-4de9-a9f5-5719cfa47533"
      },
      "source": [
        "txt = \"we all friends \\\"forever\\\" and ever.\"\n",
        "print(txt)"
      ],
      "execution_count": null,
      "outputs": [
        {
          "output_type": "stream",
          "text": [
            "we all friends \"forever\" and ever.\n"
          ],
          "name": "stdout"
        }
      ]
    },
    {
      "cell_type": "code",
      "metadata": {
        "id": "mBMThISrsHw0",
        "colab_type": "code",
        "colab": {},
        "outputId": "3e13405d-f56c-43c7-eb7c-e3d8a8945346"
      },
      "source": [
        "xyz = 'It\\'s me radha'\n",
        "print(xyz)\n"
      ],
      "execution_count": null,
      "outputs": [
        {
          "output_type": "stream",
          "text": [
            "It's me radha\n"
          ],
          "name": "stdout"
        }
      ]
    },
    {
      "cell_type": "code",
      "metadata": {
        "id": "PH71yRRwsHw5",
        "colab_type": "code",
        "colab": {},
        "outputId": "8dad45ea-9341-44bd-c940-37b30c60da9b"
      },
      "source": [
        "xyz = \"This is carona \\\\ time.\"\n",
        "print(xyz)"
      ],
      "execution_count": null,
      "outputs": [
        {
          "output_type": "stream",
          "text": [
            "This is carona \\ time.\n"
          ],
          "name": "stdout"
        }
      ]
    },
    {
      "cell_type": "code",
      "metadata": {
        "id": "qpuV2MHvsHw-",
        "colab_type": "code",
        "colab": {},
        "outputId": "a9eb59d4-b832-4f8e-84bf-5cd35f05bf77"
      },
      "source": [
        "txt = \"We are the so-called \\\"Vikings\\\" from the north.\""
      ],
      "execution_count": null,
      "outputs": [
        {
          "output_type": "stream",
          "text": [
            "Radha\n",
            "Rani\n"
          ],
          "name": "stdout"
        }
      ]
    },
    {
      "cell_type": "code",
      "metadata": {
        "id": "be_2LWGrsHxC",
        "colab_type": "code",
        "colab": {},
        "outputId": "ec52174f-f339-4e72-f767-e968b7d567c9"
      },
      "source": [
        "xyz = \"Radha\\rRani\"\n",
        "print(xyz)"
      ],
      "execution_count": null,
      "outputs": [
        {
          "output_type": "stream",
          "text": [
            "Rani\n"
          ],
          "name": "stdout"
        }
      ]
    },
    {
      "cell_type": "code",
      "metadata": {
        "id": "9G1fvYPZsHxI",
        "colab_type": "code",
        "colab": {},
        "outputId": "edc9f75e-51ee-49a4-dac4-f1f0d40c802e"
      },
      "source": [
        "txt = \"Radha\\rRani\"\n",
        "print(txt) "
      ],
      "execution_count": null,
      "outputs": [
        {
          "output_type": "stream",
          "text": [
            "Rani\n"
          ],
          "name": "stdout"
        }
      ]
    },
    {
      "cell_type": "code",
      "metadata": {
        "id": "4B2oqjAvsHxP",
        "colab_type": "code",
        "colab": {},
        "outputId": "75e66953-d85d-4ff8-b09b-05a32238dbe3"
      },
      "source": [
        "a = \"radha\"\n",
        "print(a.capitalize())"
      ],
      "execution_count": null,
      "outputs": [
        {
          "output_type": "stream",
          "text": [
            "Radha\n"
          ],
          "name": "stdout"
        }
      ]
    },
    {
      "cell_type": "code",
      "metadata": {
        "id": "qv0MoSwPsHxU",
        "colab_type": "code",
        "colab": {},
        "outputId": "c7b4da80-6215-44d3-a449-b1a4bd453162"
      },
      "source": [
        "a = \"RADHA\"\n",
        "print(a.casefold())"
      ],
      "execution_count": null,
      "outputs": [
        {
          "output_type": "stream",
          "text": [
            "radha\n"
          ],
          "name": "stdout"
        }
      ]
    },
    {
      "cell_type": "code",
      "metadata": {
        "id": "7e6Tq8L7sHxZ",
        "colab_type": "code",
        "colab": {},
        "outputId": "87b71491-6564-4c38-d3b5-26117d76002e"
      },
      "source": [
        "a = \"apple\"\n",
        "txt = a.center(20, \"1\")\n",
        "\n",
        "print(txt)"
      ],
      "execution_count": null,
      "outputs": [
        {
          "output_type": "stream",
          "text": [
            "1111111apple11111111\n"
          ],
          "name": "stdout"
        }
      ]
    },
    {
      "cell_type": "code",
      "metadata": {
        "id": "WpF_w1_TsHxd",
        "colab_type": "code",
        "colab": {},
        "outputId": "cf61bfdb-1024-4de4-8172-02844cec8fcb"
      },
      "source": [
        ""
      ],
      "execution_count": null,
      "outputs": [
        {
          "output_type": "error",
          "ename": "TypeError",
          "evalue": "center() takes at least 1 argument (0 given)",
          "traceback": [
            "\u001b[1;31m---------------------------------------------------------------------------\u001b[0m",
            "\u001b[1;31mTypeError\u001b[0m                                 Traceback (most recent call last)",
            "\u001b[1;32m<ipython-input-63-59d2780da99a>\u001b[0m in \u001b[0;36m<module>\u001b[1;34m\u001b[0m\n\u001b[0;32m      1\u001b[0m \u001b[0ma\u001b[0m \u001b[1;33m=\u001b[0m \u001b[1;34m\"radha\"\u001b[0m\u001b[1;33m\u001b[0m\u001b[1;33m\u001b[0m\u001b[0m\n\u001b[1;32m----> 2\u001b[1;33m \u001b[0mprint\u001b[0m\u001b[1;33m(\u001b[0m\u001b[0ma\u001b[0m\u001b[1;33m.\u001b[0m\u001b[0mcenter\u001b[0m\u001b[1;33m(\u001b[0m\u001b[1;33m)\u001b[0m\u001b[1;33m)\u001b[0m\u001b[1;33m\u001b[0m\u001b[1;33m\u001b[0m\u001b[0m\n\u001b[0m",
            "\u001b[1;31mTypeError\u001b[0m: center() takes at least 1 argument (0 given)"
          ]
        }
      ]
    },
    {
      "cell_type": "code",
      "metadata": {
        "id": "c-KFUd7asHxh",
        "colab_type": "code",
        "colab": {},
        "outputId": "57743929-80ad-4da7-d3b7-c2f38a2c6951"
      },
      "source": [
        "a = \"I love clothes very much and i always want's many clothes\"\n",
        "b = a.count(\"clothes\")\n",
        "\n",
        "print(b)"
      ],
      "execution_count": null,
      "outputs": [
        {
          "output_type": "stream",
          "text": [
            "2\n"
          ],
          "name": "stdout"
        }
      ]
    },
    {
      "cell_type": "code",
      "metadata": {
        "id": "scdUyjcAsHxk",
        "colab_type": "code",
        "colab": {},
        "outputId": "dfef6cb4-1189-405a-f7df-d49bc6e2a191"
      },
      "source": [
        "a = \"Hello, welcome to my world\"\n",
        "b = a.endswith(\".\")\n",
        "\n",
        "print(b)"
      ],
      "execution_count": null,
      "outputs": [
        {
          "output_type": "stream",
          "text": [
            "False\n"
          ],
          "name": "stdout"
        }
      ]
    },
    {
      "cell_type": "code",
      "metadata": {
        "id": "WcBJBDBMsHxn",
        "colab_type": "code",
        "colab": {},
        "outputId": "92cd4812-121e-4e9f-8a59-9a558d36ab0a"
      },
      "source": [
        "a = \"Hello, welcome to my world.\"\n",
        "b = a.endswith(\".\")\n",
        "\n",
        "print(b)"
      ],
      "execution_count": null,
      "outputs": [
        {
          "output_type": "stream",
          "text": [
            "True\n"
          ],
          "name": "stdout"
        }
      ]
    },
    {
      "cell_type": "code",
      "metadata": {
        "id": "jhbmQH9BsHxx",
        "colab_type": "code",
        "colab": {},
        "outputId": "5dc9bb15-a67c-4f54-b263-0cfa0c5786f9"
      },
      "source": [
        "txt = \"r\\ta\\td\\th\\ta\"\n",
        "\n",
        "x =  txt.expandtabs(7)\n",
        "\n",
        "print(x)\n"
      ],
      "execution_count": null,
      "outputs": [
        {
          "output_type": "stream",
          "text": [
            "r      a      d      h      a\n"
          ],
          "name": "stdout"
        }
      ]
    },
    {
      "cell_type": "code",
      "metadata": {
        "id": "o-IP5NAksHx0",
        "colab_type": "code",
        "colab": {},
        "outputId": "1f121a99-5676-4ad9-c019-e2754c8bc957"
      },
      "source": [
        "txt = \"Hello, welcome to my world.\"\n",
        "\n",
        "x = txt.find(\"o\")\n",
        "\n",
        "print(x)"
      ],
      "execution_count": null,
      "outputs": [
        {
          "output_type": "stream",
          "text": [
            "4\n"
          ],
          "name": "stdout"
        }
      ]
    },
    {
      "cell_type": "code",
      "metadata": {
        "id": "eXH-deWjsHx3",
        "colab_type": "code",
        "colab": {},
        "outputId": "d872516e-4c20-4571-f01d-bc42a41e608e"
      },
      "source": [
        "txt = \"Hello, welcome to my world.\"\n",
        "\n",
        "x = txt.index(\"my\")\n",
        "\n",
        "print(x)"
      ],
      "execution_count": null,
      "outputs": [
        {
          "output_type": "stream",
          "text": [
            "18\n"
          ],
          "name": "stdout"
        }
      ]
    },
    {
      "cell_type": "code",
      "metadata": {
        "id": "_CYFs0WnsHx-",
        "colab_type": "code",
        "colab": {},
        "outputId": "0f3ead48-1b0c-40a5-95d9-a7012de7e2be"
      },
      "source": [
        "txt = \"Radha(&*)\"\n",
        "\n",
        "x = txt.isalnum()\n",
        "\n",
        "print(x)."
      ],
      "execution_count": null,
      "outputs": [
        {
          "output_type": "stream",
          "text": [
            "False\n"
          ],
          "name": "stdout"
        }
      ]
    },
    {
      "cell_type": "code",
      "metadata": {
        "id": "MJdTVibksHyC",
        "colab_type": "code",
        "colab": {},
        "outputId": "32278cab-5f8c-4748-f53f-0c78dd7cb24a"
      },
      "source": [
        "txt = \"Radha12\"\n",
        "\n",
        "x = txt.isalnum()\n",
        "\n",
        "print(x)"
      ],
      "execution_count": null,
      "outputs": [
        {
          "output_type": "stream",
          "text": [
            "True\n"
          ],
          "name": "stdout"
        }
      ]
    },
    {
      "cell_type": "code",
      "metadata": {
        "id": "ExEdsJfRsHyF",
        "colab_type": "code",
        "colab": {},
        "outputId": "26d7a237-0c14-426c-eb5c-d3c2f6010e72"
      },
      "source": [
        "txt = \"8976\"\n",
        "\n",
        "x = txt.isalnum()\n",
        "\n",
        "print(x)"
      ],
      "execution_count": null,
      "outputs": [
        {
          "output_type": "stream",
          "text": [
            "True\n"
          ],
          "name": "stdout"
        }
      ]
    },
    {
      "cell_type": "code",
      "metadata": {
        "id": "ZaFkrbnWsHyI",
        "colab_type": "code",
        "colab": {},
        "outputId": "45af7f7c-caab-4460-e913-f8dd27468389"
      },
      "source": [
        "txt = \"radha\"\n",
        "\n",
        "x = txt.isalnum()\n",
        "\n",
        "print(x)"
      ],
      "execution_count": null,
      "outputs": [
        {
          "output_type": "stream",
          "text": [
            "True\n"
          ],
          "name": "stdout"
        }
      ]
    },
    {
      "cell_type": "code",
      "metadata": {
        "id": "PR0oyVHAsHyL",
        "colab_type": "code",
        "colab": {},
        "outputId": "bd8a4d49-28ce-4491-a141-edc73743538f"
      },
      "source": [
        "txt = \"pandi\"\n",
        "\n",
        "x = txt.isalpha()\n",
        "\n",
        "print(x)"
      ],
      "execution_count": null,
      "outputs": [
        {
          "output_type": "stream",
          "text": [
            "True\n"
          ],
          "name": "stdout"
        }
      ]
    },
    {
      "cell_type": "code",
      "metadata": {
        "id": "kVB6FOA0sHyO",
        "colab_type": "code",
        "colab": {},
        "outputId": "fe6aca12-587b-44da-a584-b0dd7c2a5979"
      },
      "source": [
        "txt = \"radha12\"\n",
        "\n",
        "x = txt.isalpha()\n",
        "\n",
        "print(x)"
      ],
      "execution_count": null,
      "outputs": [
        {
          "output_type": "stream",
          "text": [
            "False\n"
          ],
          "name": "stdout"
        }
      ]
    },
    {
      "cell_type": "code",
      "metadata": {
        "id": "6DMOsYMgsHyS",
        "colab_type": "code",
        "colab": {},
        "outputId": "99045d99-c31a-4f93-c6b6-f480085ba7b8"
      },
      "source": [
        "txt = \"45678\"\n",
        "\n",
        "x = txt.isdecimal()\n",
        "\n",
        "print(x)"
      ],
      "execution_count": null,
      "outputs": [
        {
          "output_type": "stream",
          "text": [
            "True\n"
          ],
          "name": "stdout"
        }
      ]
    },
    {
      "cell_type": "code",
      "metadata": {
        "id": "mfKK47GzsHyY",
        "colab_type": "code",
        "colab": {},
        "outputId": "7bc6d918-0e45-448d-9bb7-ea8d3432caa6"
      },
      "source": [
        "txt = \"knaxka\"\n",
        "\n",
        "x = txt.isdecimal()\n",
        "\n",
        "print(x)"
      ],
      "execution_count": null,
      "outputs": [
        {
          "output_type": "stream",
          "text": [
            "False\n"
          ],
          "name": "stdout"
        }
      ]
    },
    {
      "cell_type": "code",
      "metadata": {
        "id": "E7uUvCVrsHyd",
        "colab_type": "code",
        "colab": {},
        "outputId": "6c201e45-1b15-4767-e930-8515a09807f0"
      },
      "source": [
        "txt = \"1 2 3 4 5 9\"\n",
        "\n",
        "x = txt.isdecimal()\n",
        "\n",
        "print(x)\n"
      ],
      "execution_count": null,
      "outputs": [
        {
          "output_type": "stream",
          "text": [
            "False\n"
          ],
          "name": "stdout"
        }
      ]
    },
    {
      "cell_type": "code",
      "metadata": {
        "id": "r-zfQ74hsHyh",
        "colab_type": "code",
        "colab": {},
        "outputId": "4490aa23-2c1b-459f-bff8-4e9ebd40c3ca"
      },
      "source": [
        "txt = \"1)7?*562\"\n",
        "\n",
        "x = txt.isdecimal()\n",
        "\n",
        "print(x)"
      ],
      "execution_count": null,
      "outputs": [
        {
          "output_type": "stream",
          "text": [
            "False\n"
          ],
          "name": "stdout"
        }
      ]
    },
    {
      "cell_type": "code",
      "metadata": {
        "id": "olmpXT4wsHym",
        "colab_type": "code",
        "colab": {},
        "outputId": "e662a340-9ac3-403d-d478-4ba9254bcd51"
      },
      "source": [
        "txt = \"123\"\n",
        "\n",
        "x = txt.isdigit()\n",
        "\n",
        "print(x)"
      ],
      "execution_count": null,
      "outputs": [
        {
          "output_type": "stream",
          "text": [
            "True\n"
          ],
          "name": "stdout"
        }
      ]
    },
    {
      "cell_type": "code",
      "metadata": {
        "id": "dby6_zsSsHyq",
        "colab_type": "code",
        "colab": {},
        "outputId": "7216f331-1a2e-45d6-e90c-dbf936c839e4"
      },
      "source": [
        "txt = \"^^^knxakx768\"\n",
        "\n",
        "x = txt.isdigit()\n",
        "\n",
        "print(x)\n"
      ],
      "execution_count": null,
      "outputs": [
        {
          "output_type": "stream",
          "text": [
            "False\n"
          ],
          "name": "stdout"
        }
      ]
    },
    {
      "cell_type": "code",
      "metadata": {
        "id": "0m249quFsHyw",
        "colab_type": "code",
        "colab": {},
        "outputId": "71589144-41cd-420d-d848-3b3e93ac629a"
      },
      "source": [
        "txt = \"1 2 3 4 56 6 7\"\n",
        "\n",
        "x = txt.isdigit()\n",
        "\n",
        "print(x)\n"
      ],
      "execution_count": null,
      "outputs": [
        {
          "output_type": "stream",
          "text": [
            "False\n"
          ],
          "name": "stdout"
        }
      ]
    },
    {
      "cell_type": "code",
      "metadata": {
        "id": "5zfpmko4sHy0",
        "colab_type": "code",
        "colab": {},
        "outputId": "91d50586-1a04-47b4-f14b-9285a9d501e8"
      },
      "source": [
        "txt = \"radha\"\n",
        "\n",
        "x = txt.isidentifier()\n",
        "\n",
        "print(x)"
      ],
      "execution_count": null,
      "outputs": [
        {
          "output_type": "stream",
          "text": [
            "True\n"
          ],
          "name": "stdout"
        }
      ]
    },
    {
      "cell_type": "code",
      "metadata": {
        "id": "8j40uj2_sHy3",
        "colab_type": "code",
        "colab": {},
        "outputId": "f05611d7-81c6-4ad4-999a-8a79901d3ee4"
      },
      "source": [
        "txt = \"1234\"\n",
        "\n",
        "x = txt.isidentifier()\n",
        "\n",
        "print(x)"
      ],
      "execution_count": null,
      "outputs": [
        {
          "output_type": "stream",
          "text": [
            "False\n"
          ],
          "name": "stdout"
        }
      ]
    },
    {
      "cell_type": "code",
      "metadata": {
        "id": "E9RNlNpksHy5",
        "colab_type": "code",
        "colab": {},
        "outputId": "bf395b80-be8a-4549-d972-ae20e573d00e"
      },
      "source": [
        "txt = \" \"\n",
        "\n",
        "x = txt.isidentifier()\n",
        "\n",
        "print(x)"
      ],
      "execution_count": null,
      "outputs": [
        {
          "output_type": "stream",
          "text": [
            "False\n"
          ],
          "name": "stdout"
        }
      ]
    },
    {
      "cell_type": "code",
      "metadata": {
        "id": "HZoVpq92sHy8",
        "colab_type": "code",
        "colab": {},
        "outputId": "8197dbeb-1daa-48da-9eb7-eeea6c9f1b2a"
      },
      "source": [
        "txt = \"radha123\"\n",
        "\n",
        "x = txt.isidentifier()\n",
        "\n",
        "print(x)"
      ],
      "execution_count": null,
      "outputs": [
        {
          "output_type": "stream",
          "text": [
            "True\n"
          ],
          "name": "stdout"
        }
      ]
    },
    {
      "cell_type": "code",
      "metadata": {
        "id": "LEyJLJCtsHzB",
        "colab_type": "code",
        "colab": {},
        "outputId": "070006a9-a41c-40a2-80cd-847bc0b3c6dc"
      },
      "source": [
        "txt = \"*&^\"\n",
        "\n",
        "x = txt.isidentifier()\n",
        "\n",
        "print(x)"
      ],
      "execution_count": null,
      "outputs": [
        {
          "output_type": "stream",
          "text": [
            "False\n"
          ],
          "name": "stdout"
        }
      ]
    },
    {
      "cell_type": "code",
      "metadata": {
        "id": "G9ucdQf5sHzK",
        "colab_type": "code",
        "colab": {},
        "outputId": "a5ff2237-6a33-4c21-e678-93176fff4bae"
      },
      "source": [
        "txt = \"radha123\"\n",
        "\n",
        "x = txt.isidentifier()\n",
        "\n",
        "print(x)"
      ],
      "execution_count": null,
      "outputs": [
        {
          "output_type": "stream",
          "text": [
            "True\n"
          ],
          "name": "stdout"
        }
      ]
    },
    {
      "cell_type": "code",
      "metadata": {
        "id": "XlCUVNU1sHzW",
        "colab_type": "code",
        "colab": {},
        "outputId": "2da88c43-7c7a-4953-edd3-50069babab6f"
      },
      "source": [
        "a = \"SPOAMDL\"\n",
        "b = \"1873831\"\n",
        "c = \"922KSFKSMD9u9213i1\"\n",
        "d = \"my den m  o\"\n",
        "\n",
        "print(a.isidentifier())\n",
        "print(b.isidentifier())\n",
        "print(c.isidentifier())\n",
        "print(d.isidentifier())"
      ],
      "execution_count": null,
      "outputs": [
        {
          "output_type": "stream",
          "text": [
            "True\n",
            "False\n",
            "False\n",
            "False\n"
          ],
          "name": "stdout"
        }
      ]
    },
    {
      "cell_type": "code",
      "metadata": {
        "id": "qI_dsxdnsHzb",
        "colab_type": "code",
        "colab": {},
        "outputId": "53f4ba9f-48a4-4002-b986-a77054474d64"
      },
      "source": [
        "txt =\"JDMDlk  28492 dplmdl\"\n",
        "\n",
        "x = txt.islower()\n",
        "\n",
        "print(x)"
      ],
      "execution_count": null,
      "outputs": [
        {
          "output_type": "stream",
          "text": [
            "False\n"
          ],
          "name": "stdout"
        }
      ]
    },
    {
      "cell_type": "code",
      "metadata": {
        "id": "Y48R4VCVsHzi",
        "colab_type": "code",
        "colab": {},
        "outputId": "2404e571-8ca0-4d36-d4b3-5906ce0220a7"
      },
      "source": [
        "txt = \"KWDWMSLKMA23e93\"\n",
        "\n",
        "x = txt.isupper()\n",
        "\n",
        "print(x)\n"
      ],
      "execution_count": null,
      "outputs": [
        {
          "output_type": "stream",
          "text": [
            "False\n"
          ],
          "name": "stdout"
        }
      ]
    },
    {
      "cell_type": "code",
      "metadata": {
        "id": "Oi2RFJJKsHzs",
        "colab_type": "code",
        "colab": {},
        "outputId": "6673045a-eeec-4a0e-e6d5-674ca95f03c1"
      },
      "source": [
        "txt = \"AFHKAF\"\n",
        "a = \"29482\"\n",
        "b = \"NSFJNA8274\"\n",
        "\n",
        "print(txt.isupper())\n",
        "print(a.isupper())\n",
        "print(b.isupper())"
      ],
      "execution_count": null,
      "outputs": [
        {
          "output_type": "stream",
          "text": [
            "True\n",
            "False\n",
            "True\n"
          ],
          "name": "stdout"
        }
      ]
    },
    {
      "cell_type": "code",
      "metadata": {
        "id": "BlwzxdxbsHzw",
        "colab_type": "code",
        "colab": {},
        "outputId": "9e20f978-94ed-4c9f-eb12-c6f4faa269c5"
      },
      "source": [
        "txt = \"AFHKAF\"\n",
        "a = \"29482\"\n",
        "b = \"NSFJNA8274\"\n",
        "\n",
        "print(txt.islower())\n",
        "print(a.islower())\n",
        "print(b.islower())"
      ],
      "execution_count": null,
      "outputs": [
        {
          "output_type": "stream",
          "text": [
            "False\n",
            "False\n",
            "False\n"
          ],
          "name": "stdout"
        }
      ]
    },
    {
      "cell_type": "code",
      "metadata": {
        "id": "41m-MDDbsHz0",
        "colab_type": "code",
        "colab": {},
        "outputId": "2dab4efe-1d5b-4623-d25e-cc4c24ede7c2"
      },
      "source": [
        "txt = \"AFHKAF\"\n",
        "a = \"29482\"\n",
        "b = \"NSFJNA8274\"\n",
        "\n",
        "print(txt.isnumeric())\n",
        "print(a.isnumeric())\n",
        "print(b.isnumeric())"
      ],
      "execution_count": null,
      "outputs": [
        {
          "output_type": "stream",
          "text": [
            "False\n",
            "True\n",
            "False\n"
          ],
          "name": "stdout"
        }
      ]
    },
    {
      "cell_type": "code",
      "metadata": {
        "id": "P3yFUe7SsHz5",
        "colab_type": "code",
        "colab": {},
        "outputId": "f4304d97-1a06-4b0e-8007-afaf2aedc7ce"
      },
      "source": [
        "txt = \"     ihwkdm;   wjdod,   7239\"\n",
        "a = \"      \"\n",
        "b = \"NSFJNA8274     ndlOKDL;\"\n",
        "\n",
        "print(txt.isprintable())\n",
        "print(a.isprintable())\n",
        "print(b.isprintable())"
      ],
      "execution_count": null,
      "outputs": [
        {
          "output_type": "stream",
          "text": [
            "True\n",
            "True\n",
            "True\n"
          ],
          "name": "stdout"
        }
      ]
    },
    {
      "cell_type": "code",
      "metadata": {
        "id": "VK12xI62sHz9",
        "colab_type": "code",
        "colab": {},
        "outputId": "03a990c9-6ed7-45c6-f439-36ab093208f7"
      },
      "source": [
        "txt = \"82849 jododmldkkp384803 \"\n",
        "a = \"     \"\n",
        "b = \"wndkwm 39294 kdla 82492\"\n",
        "\n",
        "print(txt.isspace())\n",
        "print(a.isspace())\n",
        "print(b.isspace())"
      ],
      "execution_count": null,
      "outputs": [
        {
          "output_type": "stream",
          "text": [
            "False\n",
            "True\n",
            "False\n"
          ],
          "name": "stdout"
        }
      ]
    },
    {
      "cell_type": "code",
      "metadata": {
        "id": "twt2d-KwsH0A",
        "colab_type": "code",
        "colab": {},
        "outputId": "5691af5f-4d89-435c-8abd-d4605095ae9e"
      },
      "source": [
        "txt =  \"Hello, And Welcome To My World!\"\n",
        "\n",
        "a = \"29482\"\n",
        "b = \"NSFJNA8274\"\n",
        "\n",
        "print(txt.istitle())\n",
        "print(a.istitle())\n",
        "print(b.istitle())"
      ],
      "execution_count": null,
      "outputs": [
        {
          "output_type": "stream",
          "text": [
            "True\n",
            "False\n",
            "False\n"
          ],
          "name": "stdout"
        }
      ]
    },
    {
      "cell_type": "code",
      "metadata": {
        "id": "EG6m6bS8sH0C",
        "colab_type": "code",
        "colab": {},
        "outputId": "ba206c88-fe8c-4567-8b74-8008d0057831"
      },
      "source": [
        "str = (\"apple\", \"cat\", \"vicky\")\n",
        "txt = \"!\".join(str)\n",
        "print(txt)"
      ],
      "execution_count": null,
      "outputs": [
        {
          "output_type": "stream",
          "text": [
            "apple!cat!vicky\n"
          ],
          "name": "stdout"
        }
      ]
    },
    {
      "cell_type": "code",
      "metadata": {
        "id": "VhswDfM3sH0F",
        "colab_type": "code",
        "colab": {},
        "outputId": "9291205c-842d-420a-d281-e1b8f59eea04"
      },
      "source": [
        "lst = [\"apple\", \"city\", \"purple\"]\n",
        "print(lst)"
      ],
      "execution_count": null,
      "outputs": [
        {
          "output_type": "stream",
          "text": [
            "['apple', 'city', 'purple']\n"
          ],
          "name": "stdout"
        }
      ]
    },
    {
      "cell_type": "code",
      "metadata": {
        "id": "M8Em33WTsH0H",
        "colab_type": "code",
        "colab": {},
        "outputId": "01a611d8-177c-48e8-84a1-b4391520b546"
      },
      "source": [
        "lst = [\"apple\", \"city\", \"purple\"]\n",
        "print(lst[1])"
      ],
      "execution_count": null,
      "outputs": [
        {
          "output_type": "stream",
          "text": [
            "city\n"
          ],
          "name": "stdout"
        }
      ]
    },
    {
      "cell_type": "code",
      "metadata": {
        "id": "OVREgZMDsH0K",
        "colab_type": "code",
        "colab": {},
        "outputId": "bd273353-625a-40da-b296-4d03e4dbec03"
      },
      "source": [
        "lst = [\"apple\", \"city\", \"purple\"]\n",
        "print(lst[-2])"
      ],
      "execution_count": null,
      "outputs": [
        {
          "output_type": "stream",
          "text": [
            "city\n"
          ],
          "name": "stdout"
        }
      ]
    },
    {
      "cell_type": "code",
      "metadata": {
        "id": "9g3Pbh6qsH0O",
        "colab_type": "code",
        "colab": {},
        "outputId": "47432a75-f2ea-4e08-f63d-68dfea9efba0"
      },
      "source": [
        "lst = [\"apple\", \"city\", \"purple\", \"ndiwndow\", \"dhijdo\", \"hifjwo\", \"7731993\"]\n",
        "print(lst[2:5])"
      ],
      "execution_count": null,
      "outputs": [
        {
          "output_type": "stream",
          "text": [
            "['purple', 'ndiwndow', 'dhijdo']\n"
          ],
          "name": "stdout"
        }
      ]
    },
    {
      "cell_type": "code",
      "metadata": {
        "id": "5aU00XXlsH0R",
        "colab_type": "code",
        "colab": {},
        "outputId": "55481ca6-ca37-4ec4-c6da-84070eff0f17"
      },
      "source": [
        "lst = [\"apple\", \"city\", \"purple\", \"ndiwndow\", \"dhijdo\", \"hifjwo\", \"7731993\"]\n",
        "print(lst[:5])"
      ],
      "execution_count": null,
      "outputs": [
        {
          "output_type": "stream",
          "text": [
            "['apple', 'city', 'purple', 'ndiwndow', 'dhijdo']\n"
          ],
          "name": "stdout"
        }
      ]
    },
    {
      "cell_type": "code",
      "metadata": {
        "id": "lRe4mqk8sH0V",
        "colab_type": "code",
        "colab": {},
        "outputId": "94361a02-51cd-4d49-e489-e723cf357723"
      },
      "source": [
        "lst = [\"apple\", \"city\", \"purple\", \"ndiwndow\", \"dhijdo\", \"hifjwo\", \"7731993\"]\n",
        "print(lst[0:-3])"
      ],
      "execution_count": null,
      "outputs": [
        {
          "output_type": "stream",
          "text": [
            "['apple', 'city', 'purple', 'ndiwndow']\n"
          ],
          "name": "stdout"
        }
      ]
    },
    {
      "cell_type": "code",
      "metadata": {
        "id": "4FSdm1MmsH0Z",
        "colab_type": "code",
        "colab": {},
        "outputId": "17048673-94ff-4ce1-b24a-42c3e59b6afb"
      },
      "source": [
        "lst = [\"apple\", \"city\", \"purple\", \"ndiwndow\", \"dhijdo\", \"hifjwo\", \"7731993\"]\n",
        "print(lst[2:])"
      ],
      "execution_count": null,
      "outputs": [
        {
          "output_type": "stream",
          "text": [
            "['purple', 'ndiwndow', 'dhijdo', 'hifjwo', '7731993']\n"
          ],
          "name": "stdout"
        }
      ]
    },
    {
      "cell_type": "code",
      "metadata": {
        "id": "kNWY7WU2sH0g",
        "colab_type": "code",
        "colab": {},
        "outputId": "b47bcbe0-0051-484a-c973-ea0ed9926198"
      },
      "source": [
        "lst = [\"apple\", \"city\", \"purple\", \"ndiwndow\", \"dhijdo\", \"hifjwo\", \"7731993\"]\n",
        "print(lst[-4:-1])"
      ],
      "execution_count": null,
      "outputs": [
        {
          "output_type": "stream",
          "text": [
            "['ndiwndow', 'dhijdo', 'hifjwo']\n"
          ],
          "name": "stdout"
        }
      ]
    },
    {
      "cell_type": "code",
      "metadata": {
        "id": "E3REGMWjsH0i",
        "colab_type": "code",
        "colab": {},
        "outputId": "0caf0083-45f0-4f70-8dbf-a91be69c6ad2"
      },
      "source": [
        "a = [\"radha\", \"madhavi\", \"revu\", \"ravi chandra\", \"krishna\"]\n",
        "a[3] = \"venkat\"\n",
        "print(a)"
      ],
      "execution_count": null,
      "outputs": [
        {
          "output_type": "stream",
          "text": [
            "['radha', 'madhavi', 'revu', 'venkat', 'krishna']\n"
          ],
          "name": "stdout"
        }
      ]
    },
    {
      "cell_type": "code",
      "metadata": {
        "id": "ogDlna9HsH0m",
        "colab_type": "code",
        "colab": {},
        "outputId": "f76cb2f2-d145-4b89-b695-d427c97e752d"
      },
      "source": [
        "a = [\"radha\", \"madhavi\", \"revu\", \"ravi chandra\", \"krishna\"]\n",
        "for x in a:\n",
        "    print(x)"
      ],
      "execution_count": null,
      "outputs": [
        {
          "output_type": "stream",
          "text": [
            "radha\n",
            "madhavi\n",
            "revu\n",
            "ravi chandra\n",
            "krishna\n"
          ],
          "name": "stdout"
        }
      ]
    },
    {
      "cell_type": "code",
      "metadata": {
        "id": "d3gSUScasH0o",
        "colab_type": "code",
        "colab": {},
        "outputId": "f3d22009-2961-44aa-f5e7-d6cac40acc1b"
      },
      "source": [
        "thislist = [\"radha\", \"madhavi\", \"revu\"]\n",
        "if \"radha\" in thislist:\n",
        "    print(\"Yes, 'radha' is in the fruits list\")"
      ],
      "execution_count": null,
      "outputs": [
        {
          "output_type": "stream",
          "text": [
            "Yes, 'radha' is in the fruits list\n"
          ],
          "name": "stdout"
        }
      ]
    },
    {
      "cell_type": "code",
      "metadata": {
        "id": "SxO3c9rhsH0r",
        "colab_type": "code",
        "colab": {},
        "outputId": "2588dada-1a08-446e-82d8-2e9bf20af122"
      },
      "source": [
        "a = [\"radha\", \"madhavi\", \"revu\", \"ravi chandra\", \"krishna\"]\n",
        "\n",
        "print(len(a))"
      ],
      "execution_count": null,
      "outputs": [
        {
          "output_type": "stream",
          "text": [
            "5\n"
          ],
          "name": "stdout"
        }
      ]
    },
    {
      "cell_type": "code",
      "metadata": {
        "id": "zoM4V6w5sH0u",
        "colab_type": "code",
        "colab": {},
        "outputId": "64aa20cd-d9ae-48d0-fa05-136e4101ae3e"
      },
      "source": [
        "a = [\"radha\", \"madhavi\", \"revu\", \"ravi chandra\", \"krishna\"]\n",
        "a.append(\"ravi\")\n",
        "print(a)"
      ],
      "execution_count": null,
      "outputs": [
        {
          "output_type": "stream",
          "text": [
            "['radha', 'madhavi', 'revu', 'ravi chandra', 'krishna', 'ravi']\n"
          ],
          "name": "stdout"
        }
      ]
    },
    {
      "cell_type": "code",
      "metadata": {
        "id": "mkGmsfcqsH0w",
        "colab_type": "code",
        "colab": {},
        "outputId": "35a6d047-3e28-44f4-dc05-7005f46e808a"
      },
      "source": [
        "a = [\"radha\", \"madhavi\", \"revu\", \"ravi chandra\", \"krishna\"]\n",
        "a.insert(2, \"ravi\")\n",
        "print(a)"
      ],
      "execution_count": null,
      "outputs": [
        {
          "output_type": "stream",
          "text": [
            "['radha', 'madhavi', 'ravi', 'revu', 'ravi chandra', 'krishna']\n"
          ],
          "name": "stdout"
        }
      ]
    },
    {
      "cell_type": "code",
      "metadata": {
        "id": "C_KjswjBsH02",
        "colab_type": "code",
        "colab": {},
        "outputId": "9d2db2e8-c198-4c6e-9086-013839507834"
      },
      "source": [
        "a = [\"radha\", \"madhavi\", \"revu\", \"ravi chandra\", \"krishna\"]\n",
        "a.remove(\"radha\")\n",
        "print(a)"
      ],
      "execution_count": null,
      "outputs": [
        {
          "output_type": "stream",
          "text": [
            "['madhavi', 'revu', 'ravi chandra', 'krishna']\n"
          ],
          "name": "stdout"
        }
      ]
    },
    {
      "cell_type": "code",
      "metadata": {
        "id": "DUb1NDbfsH07",
        "colab_type": "code",
        "colab": {},
        "outputId": "9cb31168-4a96-4893-982b-f13be5371776"
      },
      "source": [
        "a = [\"radha\", \"madhavi\", \"revu\", \"ravi chandra\", \"krishna\"]\n",
        "a.pop()\n",
        "print(a)"
      ],
      "execution_count": null,
      "outputs": [
        {
          "output_type": "stream",
          "text": [
            "['radha', 'madhavi', 'revu', 'ravi chandra']\n"
          ],
          "name": "stdout"
        }
      ]
    },
    {
      "cell_type": "code",
      "metadata": {
        "id": "QiGTy2RTsH1A",
        "colab_type": "code",
        "colab": {},
        "outputId": "8e7fa13f-fa78-4581-cee3-912c39e08fa1"
      },
      "source": [
        "list = [\"radha\", \"madhavi\", \"revu\", \"ravi chandra\", \"krishna\"]\n",
        "del list[0]\n",
        "print(a)"
      ],
      "execution_count": null,
      "outputs": [
        {
          "output_type": "stream",
          "text": [
            "['radha', 'madhavi', 'revu', 'ravi chandra']\n"
          ],
          "name": "stdout"
        }
      ]
    },
    {
      "cell_type": "code",
      "metadata": {
        "id": "rQhSsAbesH1D",
        "colab_type": "code",
        "colab": {}
      },
      "source": [
        ""
      ],
      "execution_count": null,
      "outputs": []
    }
  ]
}