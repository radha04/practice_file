{
  "nbformat": 4,
  "nbformat_minor": 0,
  "metadata": {
    "kernelspec": {
      "display_name": "Python 3",
      "language": "python",
      "name": "python3"
    },
    "language_info": {
      "codemirror_mode": {
        "name": "ipython",
        "version": 3
      },
      "file_extension": ".py",
      "mimetype": "text/x-python",
      "name": "python",
      "nbconvert_exporter": "python",
      "pygments_lexer": "ipython3",
      "version": "3.7.6"
    },
    "colab": {
      "name": "program.09-Copy3.ipynb",
      "provenance": [],
      "include_colab_link": true
    }
  },
  "cells": [
    {
      "cell_type": "markdown",
      "metadata": {
        "id": "view-in-github",
        "colab_type": "text"
      },
      "source": [
        "<a href=\"https://colab.research.google.com/github/radha04/practice_file/blob/master/program_09_Copy3.ipynb\" target=\"_parent\"><img src=\"https://colab.research.google.com/assets/colab-badge.svg\" alt=\"Open In Colab\"/></a>"
      ]
    },
    {
      "cell_type": "code",
      "metadata": {
        "id": "FIl9lam-RfLZ",
        "colab_type": "code",
        "colab": {},
        "outputId": "553e6f3d-5a1c-48e3-b460-c7521556f18a"
      },
      "source": [
        "str = 'radha'\n",
        "print(str)\n"
      ],
      "execution_count": null,
      "outputs": [
        {
          "output_type": "stream",
          "text": [
            "radha\n"
          ],
          "name": "stdout"
        }
      ]
    },
    {
      "cell_type": "code",
      "metadata": {
        "id": "7okcmXGoRfLh",
        "colab_type": "code",
        "colab": {},
        "outputId": "4ae68a81-ac31-4be3-c724-c1ab8154af00"
      },
      "source": [
        "a = '''good evening'''\n",
        "print(a)"
      ],
      "execution_count": null,
      "outputs": [
        {
          "output_type": "stream",
          "text": [
            "good evening\n"
          ],
          "name": "stdout"
        }
      ]
    },
    {
      "cell_type": "code",
      "metadata": {
        "id": "DN4vrmyuRfLp",
        "colab_type": "code",
        "colab": {},
        "outputId": "85c82788-1134-4868-ca88-54204ef9a99f"
      },
      "source": [
        "a = 'hello radha'\n",
        "print(a[2])"
      ],
      "execution_count": null,
      "outputs": [
        {
          "output_type": "stream",
          "text": [
            "l\n"
          ],
          "name": "stdout"
        }
      ]
    },
    {
      "cell_type": "code",
      "metadata": {
        "id": "bjmYBCqyRfLw",
        "colab_type": "code",
        "colab": {},
        "outputId": "b9e630b3-eecf-4457-8b4e-284c20aad26d"
      },
      "source": [
        "a = 'helloradha'\n",
        "print(a[2:8])"
      ],
      "execution_count": null,
      "outputs": [
        {
          "output_type": "stream",
          "text": [
            "llorad\n"
          ],
          "name": "stdout"
        }
      ]
    },
    {
      "cell_type": "code",
      "metadata": {
        "id": "aGTFB9U8RfL4",
        "colab_type": "code",
        "colab": {},
        "outputId": "6c213491-3a24-4185-e41c-3f3be1b25a0f"
      },
      "source": [
        "a = 'helloradha!'\n",
        "print(a[-7:-1])"
      ],
      "execution_count": null,
      "outputs": [
        {
          "output_type": "stream",
          "text": [
            "oradha\n"
          ],
          "name": "stdout"
        }
      ]
    },
    {
      "cell_type": "code",
      "metadata": {
        "id": "ic-G3SwhRfL_",
        "colab_type": "code",
        "colab": {},
        "outputId": "e8401d7c-dc6b-463b-e3d1-ed06f62d1b25"
      },
      "source": [
        "a = 'hello radha'\n",
        "print(len(a))"
      ],
      "execution_count": null,
      "outputs": [
        {
          "output_type": "stream",
          "text": [
            "11\n"
          ],
          "name": "stdout"
        }
      ]
    },
    {
      "cell_type": "code",
      "metadata": {
        "id": "5Iqen6n6RfMF",
        "colab_type": "code",
        "colab": {},
        "outputId": "a2763ed1-dcec-40fe-c9d5-79f251f138e1"
      },
      "source": [
        "a = '  hello radha  '\n",
        "print(a.strip())"
      ],
      "execution_count": null,
      "outputs": [
        {
          "output_type": "stream",
          "text": [
            "hello radha\n"
          ],
          "name": "stdout"
        }
      ]
    },
    {
      "cell_type": "code",
      "metadata": {
        "id": "PlqRKk8CRfMO",
        "colab_type": "code",
        "colab": {},
        "outputId": "5691883c-a821-4fda-f9ba-79be280082aa"
      },
      "source": [
        "a = 'RADHA'\n",
        "print(a.lower())"
      ],
      "execution_count": null,
      "outputs": [
        {
          "output_type": "stream",
          "text": [
            "radha\n"
          ],
          "name": "stdout"
        }
      ]
    },
    {
      "cell_type": "code",
      "metadata": {
        "id": "fIDi6yi7RfMT",
        "colab_type": "code",
        "colab": {},
        "outputId": "9069e37f-29b1-44b1-d736-047a3685d289"
      },
      "source": [
        "a = 'radha'\n",
        "print(a.upper())"
      ],
      "execution_count": null,
      "outputs": [
        {
          "output_type": "stream",
          "text": [
            "RADHA\n"
          ],
          "name": "stdout"
        }
      ]
    },
    {
      "cell_type": "code",
      "metadata": {
        "id": "3Yq4zBkERfMX",
        "colab_type": "code",
        "colab": {},
        "outputId": "bb44df69-327f-4935-ad99-17b5780337b0"
      },
      "source": [
        "a = 'hello radha'\n",
        "print(a.replace('h', 'j'))"
      ],
      "execution_count": null,
      "outputs": [
        {
          "output_type": "stream",
          "text": [
            "jello radja\n"
          ],
          "name": "stdout"
        }
      ]
    },
    {
      "cell_type": "code",
      "metadata": {
        "id": "TRbifzIcRfMa",
        "colab_type": "code",
        "colab": {},
        "outputId": "66f5e9f0-a159-4745-82d1-cb67938d4f71"
      },
      "source": [
        "a = 'how are you'\n",
        "print(a.split())"
      ],
      "execution_count": null,
      "outputs": [
        {
          "output_type": "stream",
          "text": [
            "['how', 'are', 'you']\n"
          ],
          "name": "stdout"
        }
      ]
    },
    {
      "cell_type": "code",
      "metadata": {
        "id": "uSn6Zy6kRfMf",
        "colab_type": "code",
        "colab": {},
        "outputId": "11a94e71-a3c2-408c-c460-d80f230f949f"
      },
      "source": [
        "xyz = \"this is radha\"\n",
        "abc = \"is\" not in xyz\n",
        "print(abc)"
      ],
      "execution_count": null,
      "outputs": [
        {
          "output_type": "stream",
          "text": [
            "False\n"
          ],
          "name": "stdout"
        }
      ]
    },
    {
      "cell_type": "code",
      "metadata": {
        "id": "fqJh37mcRfMj",
        "colab_type": "code",
        "colab": {},
        "outputId": "2eb127d4-df67-474e-d9f2-451e4730efd6"
      },
      "source": [
        "xyz = \"this is radha\"\n",
        "abc = \"is\" in xyz\n",
        "print(abc)"
      ],
      "execution_count": null,
      "outputs": [
        {
          "output_type": "stream",
          "text": [
            "True\n"
          ],
          "name": "stdout"
        }
      ]
    },
    {
      "cell_type": "code",
      "metadata": {
        "id": "VRHEgu6tRfMn",
        "colab_type": "code",
        "colab": {},
        "outputId": "95f0133a-6a5c-41a8-b417-d6bd9f9eb49d"
      },
      "source": [
        "y = 'how is '\n",
        "z = 'your day'\n",
        "x = y + z\n",
        "print(x)"
      ],
      "execution_count": null,
      "outputs": [
        {
          "output_type": "stream",
          "text": [
            "how is your day\n"
          ],
          "name": "stdout"
        }
      ]
    },
    {
      "cell_type": "code",
      "metadata": {
        "id": "xFV28p2TRfMt",
        "colab_type": "code",
        "colab": {},
        "outputId": "26cbc0cd-c6ac-477e-cfd0-1d4b398dd570"
      },
      "source": [
        "a = \"frnd\"\n",
        "b = \"ship\"\n",
        "c = a + \" \" + b\n",
        "print(c)"
      ],
      "execution_count": null,
      "outputs": [
        {
          "output_type": "stream",
          "text": [
            "frnd ship\n"
          ],
          "name": "stdout"
        }
      ]
    },
    {
      "cell_type": "code",
      "metadata": {
        "id": "7Cm2vPZeRfMy",
        "colab_type": "code",
        "colab": {},
        "outputId": "2c0e397c-a74e-46c9-fde3-d5b0e6cd769d"
      },
      "source": [
        "age = 20\n",
        "xyz = \"My name is radha, and I am {}\"\n",
        "print(xyz.format(age))\n"
      ],
      "execution_count": null,
      "outputs": [
        {
          "output_type": "stream",
          "text": [
            "My name is radha, and I am 20\n"
          ],
          "name": "stdout"
        }
      ]
    },
    {
      "cell_type": "code",
      "metadata": {
        "id": "yRXDnz3yRfM1",
        "colab_type": "code",
        "colab": {},
        "outputId": "a24def1a-0d8c-4f33-b7a8-3cfb8b255938"
      },
      "source": [
        "number = 3\n",
        "clothes = 567\n",
        "price = 49.95\n",
        "myorder = \"I want {0} pieces of item {1} for {2} dollars.\"\n",
        "print(myorder.format(number,clothes, price))\n"
      ],
      "execution_count": null,
      "outputs": [
        {
          "output_type": "stream",
          "text": [
            "I want 3 pieces of item 567 for 49.95 dollars.\n"
          ],
          "name": "stdout"
        }
      ]
    },
    {
      "cell_type": "code",
      "metadata": {
        "id": "wREsmlIWRfM6",
        "colab_type": "code",
        "colab": {},
        "outputId": "8ce66f45-c251-4d26-9329-fce7b211413c"
      },
      "source": [
        "quantity = 3\n",
        "itemno = 567\n",
        "price = 49.95\n",
        "myorder = \"I want {} pieces of item {} for {} dollars.\"\n",
        "print(myorder.format(quantity, itemno, price))"
      ],
      "execution_count": null,
      "outputs": [
        {
          "output_type": "stream",
          "text": [
            "I want 3 pieces of item 567 for 49.95 dollars.\n"
          ],
          "name": "stdout"
        }
      ]
    },
    {
      "cell_type": "code",
      "metadata": {
        "id": "izc40Zn8RfND",
        "colab_type": "code",
        "colab": {},
        "outputId": "2a5a614a-b35c-4625-ac63-b92b544b7775"
      },
      "source": [
        "txt = \"we all friends \\\"forever\\\" and ever.\"\n",
        "print(txt)"
      ],
      "execution_count": null,
      "outputs": [
        {
          "output_type": "stream",
          "text": [
            "we all friends \"forever\" and ever.\n"
          ],
          "name": "stdout"
        }
      ]
    },
    {
      "cell_type": "code",
      "metadata": {
        "id": "_X4Sh7_gRfNH",
        "colab_type": "code",
        "colab": {},
        "outputId": "8a45b7b4-694a-4a09-f5f9-a9747ccb8720"
      },
      "source": [
        "xyz = 'It\\'s me radha'\n",
        "print(xyz)\n"
      ],
      "execution_count": null,
      "outputs": [
        {
          "output_type": "stream",
          "text": [
            "It's me radha\n"
          ],
          "name": "stdout"
        }
      ]
    },
    {
      "cell_type": "code",
      "metadata": {
        "id": "aa_vieHlRfNL",
        "colab_type": "code",
        "colab": {},
        "outputId": "69b7fb61-db7c-4981-fba4-7a1c9ff94c53"
      },
      "source": [
        "xyz = \"This is carona \\\\ time.\"\n",
        "print(xyz)"
      ],
      "execution_count": null,
      "outputs": [
        {
          "output_type": "stream",
          "text": [
            "This is carona \\ time.\n"
          ],
          "name": "stdout"
        }
      ]
    },
    {
      "cell_type": "code",
      "metadata": {
        "id": "_zgN7hZmRfNR",
        "colab_type": "code",
        "colab": {},
        "outputId": "2dfc1829-8adb-4cfe-9364-920750798d22"
      },
      "source": [
        "txt = \"We are the so-called \\\"Vikings\\\" from the north.\""
      ],
      "execution_count": null,
      "outputs": [
        {
          "output_type": "stream",
          "text": [
            "Radha\n",
            "Rani\n"
          ],
          "name": "stdout"
        }
      ]
    },
    {
      "cell_type": "code",
      "metadata": {
        "id": "5KCWvulLRfNW",
        "colab_type": "code",
        "colab": {},
        "outputId": "23b6f373-364e-4916-94e0-b7b40a9b680e"
      },
      "source": [
        "xyz = \"Radha\\rRani\"\n",
        "print(xyz)"
      ],
      "execution_count": null,
      "outputs": [
        {
          "output_type": "stream",
          "text": [
            "Rani\n"
          ],
          "name": "stdout"
        }
      ]
    },
    {
      "cell_type": "code",
      "metadata": {
        "id": "to3LlpaqRfNc",
        "colab_type": "code",
        "colab": {},
        "outputId": "75accbc1-02fd-4172-ae53-f8d49ec401ef"
      },
      "source": [
        "txt = \"Radha\\rRani\"\n",
        "print(txt) "
      ],
      "execution_count": null,
      "outputs": [
        {
          "output_type": "stream",
          "text": [
            "Rani\n"
          ],
          "name": "stdout"
        }
      ]
    },
    {
      "cell_type": "code",
      "metadata": {
        "id": "rjVkMb2YRfNj",
        "colab_type": "code",
        "colab": {},
        "outputId": "83dcff18-0aed-4a23-8212-f6c0cc7397d9"
      },
      "source": [
        "a = \"radha\"\n",
        "print(a.capitalize())"
      ],
      "execution_count": null,
      "outputs": [
        {
          "output_type": "stream",
          "text": [
            "Radha\n"
          ],
          "name": "stdout"
        }
      ]
    },
    {
      "cell_type": "code",
      "metadata": {
        "id": "QJo-WRJPRfNo",
        "colab_type": "code",
        "colab": {},
        "outputId": "b1d5d1f8-5397-4b3c-fc07-9e9d7f1b4672"
      },
      "source": [
        "a = \"RADHA\"\n",
        "print(a.casefold())"
      ],
      "execution_count": null,
      "outputs": [
        {
          "output_type": "stream",
          "text": [
            "radha\n"
          ],
          "name": "stdout"
        }
      ]
    },
    {
      "cell_type": "code",
      "metadata": {
        "id": "10zu66tKRfNt",
        "colab_type": "code",
        "colab": {},
        "outputId": "fd1cb5b2-1d2e-41fc-b425-fff21cba3b7a"
      },
      "source": [
        "a = \"apple\"\n",
        "txt = a.center(20, \"1\")\n",
        "\n",
        "print(txt)"
      ],
      "execution_count": null,
      "outputs": [
        {
          "output_type": "stream",
          "text": [
            "1111111apple11111111\n"
          ],
          "name": "stdout"
        }
      ]
    },
    {
      "cell_type": "code",
      "metadata": {
        "id": "LFEflhOrRfNx",
        "colab_type": "code",
        "colab": {},
        "outputId": "5c378989-9184-489f-db79-0dc40092da22"
      },
      "source": [
        ""
      ],
      "execution_count": null,
      "outputs": [
        {
          "output_type": "error",
          "ename": "TypeError",
          "evalue": "center() takes at least 1 argument (0 given)",
          "traceback": [
            "\u001b[1;31m---------------------------------------------------------------------------\u001b[0m",
            "\u001b[1;31mTypeError\u001b[0m                                 Traceback (most recent call last)",
            "\u001b[1;32m<ipython-input-63-59d2780da99a>\u001b[0m in \u001b[0;36m<module>\u001b[1;34m\u001b[0m\n\u001b[0;32m      1\u001b[0m \u001b[0ma\u001b[0m \u001b[1;33m=\u001b[0m \u001b[1;34m\"radha\"\u001b[0m\u001b[1;33m\u001b[0m\u001b[1;33m\u001b[0m\u001b[0m\n\u001b[1;32m----> 2\u001b[1;33m \u001b[0mprint\u001b[0m\u001b[1;33m(\u001b[0m\u001b[0ma\u001b[0m\u001b[1;33m.\u001b[0m\u001b[0mcenter\u001b[0m\u001b[1;33m(\u001b[0m\u001b[1;33m)\u001b[0m\u001b[1;33m)\u001b[0m\u001b[1;33m\u001b[0m\u001b[1;33m\u001b[0m\u001b[0m\n\u001b[0m",
            "\u001b[1;31mTypeError\u001b[0m: center() takes at least 1 argument (0 given)"
          ]
        }
      ]
    },
    {
      "cell_type": "code",
      "metadata": {
        "id": "EdeB0eHuRfN1",
        "colab_type": "code",
        "colab": {},
        "outputId": "b1573109-f800-45ee-e033-5cbaecc2893a"
      },
      "source": [
        "a = \"I love clothes very much and i always want's many clothes\"\n",
        "b = a.count(\"clothes\")\n",
        "\n",
        "print(b)"
      ],
      "execution_count": null,
      "outputs": [
        {
          "output_type": "stream",
          "text": [
            "2\n"
          ],
          "name": "stdout"
        }
      ]
    },
    {
      "cell_type": "code",
      "metadata": {
        "id": "L0dE51lNRfN4",
        "colab_type": "code",
        "colab": {},
        "outputId": "713f38c7-2206-4c23-f932-29630716325e"
      },
      "source": [
        "a = \"Hello, welcome to my world\"\n",
        "b = a.endswith(\".\")\n",
        "\n",
        "print(b)"
      ],
      "execution_count": null,
      "outputs": [
        {
          "output_type": "stream",
          "text": [
            "False\n"
          ],
          "name": "stdout"
        }
      ]
    },
    {
      "cell_type": "code",
      "metadata": {
        "id": "x9BVx2_CRfN7",
        "colab_type": "code",
        "colab": {},
        "outputId": "815a2781-07b4-47ce-f20d-7b6a2b76814c"
      },
      "source": [
        "a = \"Hello, welcome to my world.\"\n",
        "b = a.endswith(\".\")\n",
        "\n",
        "print(b)"
      ],
      "execution_count": null,
      "outputs": [
        {
          "output_type": "stream",
          "text": [
            "True\n"
          ],
          "name": "stdout"
        }
      ]
    },
    {
      "cell_type": "code",
      "metadata": {
        "id": "T7yQbEv4RfOB",
        "colab_type": "code",
        "colab": {},
        "outputId": "da333a1b-d3fe-459b-899f-2e2bef6eedc1"
      },
      "source": [
        "txt = \"r\\ta\\td\\th\\ta\"\n",
        "\n",
        "x =  txt.expandtabs(7)\n",
        "\n",
        "print(x)\n"
      ],
      "execution_count": null,
      "outputs": [
        {
          "output_type": "stream",
          "text": [
            "r      a      d      h      a\n"
          ],
          "name": "stdout"
        }
      ]
    },
    {
      "cell_type": "code",
      "metadata": {
        "id": "MKkK9bocRfOJ",
        "colab_type": "code",
        "colab": {},
        "outputId": "c50d046c-8f2b-49fa-b4e9-d143c3fb4407"
      },
      "source": [
        "txt = \"Hello, welcome to my world.\"\n",
        "\n",
        "x = txt.find(\"o\")\n",
        "\n",
        "print(x)"
      ],
      "execution_count": null,
      "outputs": [
        {
          "output_type": "stream",
          "text": [
            "4\n"
          ],
          "name": "stdout"
        }
      ]
    },
    {
      "cell_type": "code",
      "metadata": {
        "id": "3OTZagieRfOO",
        "colab_type": "code",
        "colab": {},
        "outputId": "b1330e0e-e79d-4076-d5cd-b45f957aa28c"
      },
      "source": [
        "txt = \"Hello, welcome to my world.\"\n",
        "\n",
        "x = txt.index(\"my\")\n",
        "\n",
        "print(x)"
      ],
      "execution_count": null,
      "outputs": [
        {
          "output_type": "stream",
          "text": [
            "18\n"
          ],
          "name": "stdout"
        }
      ]
    },
    {
      "cell_type": "code",
      "metadata": {
        "id": "_ee6PRT_RfOW",
        "colab_type": "code",
        "colab": {},
        "outputId": "5f4f9506-7be3-4445-94cd-e9033bb16f6f"
      },
      "source": [
        "txt = \"Radha(&*)\"\n",
        "\n",
        "x = txt.isalnum()\n",
        "\n",
        "print(x)."
      ],
      "execution_count": null,
      "outputs": [
        {
          "output_type": "stream",
          "text": [
            "False\n"
          ],
          "name": "stdout"
        }
      ]
    },
    {
      "cell_type": "code",
      "metadata": {
        "id": "Wu-0VOcGRfOk",
        "colab_type": "code",
        "colab": {},
        "outputId": "af6cab9b-015a-42bd-9f4e-4896420f0de7"
      },
      "source": [
        "txt = \"Radha12\"\n",
        "\n",
        "x = txt.isalnum()\n",
        "\n",
        "print(x)"
      ],
      "execution_count": null,
      "outputs": [
        {
          "output_type": "stream",
          "text": [
            "True\n"
          ],
          "name": "stdout"
        }
      ]
    },
    {
      "cell_type": "code",
      "metadata": {
        "id": "sqapMH1MRfOn",
        "colab_type": "code",
        "colab": {},
        "outputId": "b81fa6e6-10a6-4140-ec9b-d72a4171ba3e"
      },
      "source": [
        "txt = \"8976\"\n",
        "\n",
        "x = txt.isalnum()\n",
        "\n",
        "print(x)"
      ],
      "execution_count": null,
      "outputs": [
        {
          "output_type": "stream",
          "text": [
            "True\n"
          ],
          "name": "stdout"
        }
      ]
    },
    {
      "cell_type": "code",
      "metadata": {
        "id": "91a1ur7JRfOt",
        "colab_type": "code",
        "colab": {},
        "outputId": "02faafd1-ba88-4c11-ca70-6b99ec0b7f56"
      },
      "source": [
        "txt = \"radha\"\n",
        "\n",
        "x = txt.isalnum()\n",
        "\n",
        "print(x)"
      ],
      "execution_count": null,
      "outputs": [
        {
          "output_type": "stream",
          "text": [
            "True\n"
          ],
          "name": "stdout"
        }
      ]
    },
    {
      "cell_type": "code",
      "metadata": {
        "id": "Lo71bn78RfOy",
        "colab_type": "code",
        "colab": {},
        "outputId": "f2d4ff34-2105-4ac4-ec8e-f2f478f0cf53"
      },
      "source": [
        "txt = \"pandi\"\n",
        "\n",
        "x = txt.isalpha()\n",
        "\n",
        "print(x)"
      ],
      "execution_count": null,
      "outputs": [
        {
          "output_type": "stream",
          "text": [
            "True\n"
          ],
          "name": "stdout"
        }
      ]
    },
    {
      "cell_type": "code",
      "metadata": {
        "id": "3B7vEqujRfO2",
        "colab_type": "code",
        "colab": {},
        "outputId": "adf9e331-32c1-4384-f417-cc358c3696aa"
      },
      "source": [
        "txt = \"radha12\"\n",
        "\n",
        "x = txt.isalpha()\n",
        "\n",
        "print(x)"
      ],
      "execution_count": null,
      "outputs": [
        {
          "output_type": "stream",
          "text": [
            "False\n"
          ],
          "name": "stdout"
        }
      ]
    },
    {
      "cell_type": "code",
      "metadata": {
        "id": "8GuBHsZURfO7",
        "colab_type": "code",
        "colab": {},
        "outputId": "db9ec94e-f89c-4015-ebe9-8a8073bc73d9"
      },
      "source": [
        "txt = \"45678\"\n",
        "\n",
        "x = txt.isdecimal()\n",
        "\n",
        "print(x)"
      ],
      "execution_count": null,
      "outputs": [
        {
          "output_type": "stream",
          "text": [
            "True\n"
          ],
          "name": "stdout"
        }
      ]
    },
    {
      "cell_type": "code",
      "metadata": {
        "id": "zHO59_4GRfPD",
        "colab_type": "code",
        "colab": {},
        "outputId": "4bd6a9c6-4a4a-49e1-9fb7-8f06bfc71527"
      },
      "source": [
        "txt = \"knaxka\"\n",
        "\n",
        "x = txt.isdecimal()\n",
        "\n",
        "print(x)"
      ],
      "execution_count": null,
      "outputs": [
        {
          "output_type": "stream",
          "text": [
            "False\n"
          ],
          "name": "stdout"
        }
      ]
    },
    {
      "cell_type": "code",
      "metadata": {
        "id": "pw__lVfBRfPI",
        "colab_type": "code",
        "colab": {},
        "outputId": "a3bdb668-2897-441e-b195-53c335f6f2f5"
      },
      "source": [
        "txt = \"1 2 3 4 5 9\"\n",
        "\n",
        "x = txt.isdecimal()\n",
        "\n",
        "print(x)\n"
      ],
      "execution_count": null,
      "outputs": [
        {
          "output_type": "stream",
          "text": [
            "False\n"
          ],
          "name": "stdout"
        }
      ]
    },
    {
      "cell_type": "code",
      "metadata": {
        "id": "bVe6En7_RfPO",
        "colab_type": "code",
        "colab": {},
        "outputId": "df3c4659-329a-48b1-8381-c28020d4b71a"
      },
      "source": [
        "txt = \"1)7?*562\"\n",
        "\n",
        "x = txt.isdecimal()\n",
        "\n",
        "print(x)"
      ],
      "execution_count": null,
      "outputs": [
        {
          "output_type": "stream",
          "text": [
            "False\n"
          ],
          "name": "stdout"
        }
      ]
    },
    {
      "cell_type": "code",
      "metadata": {
        "id": "-b-UiOaJRfPY",
        "colab_type": "code",
        "colab": {},
        "outputId": "a113846f-caf8-48fd-da2b-c3b8bdcdd62e"
      },
      "source": [
        "txt = \"123\"\n",
        "\n",
        "x = txt.isdigit()\n",
        "\n",
        "print(x)"
      ],
      "execution_count": null,
      "outputs": [
        {
          "output_type": "stream",
          "text": [
            "True\n"
          ],
          "name": "stdout"
        }
      ]
    },
    {
      "cell_type": "code",
      "metadata": {
        "id": "88k1uZDaRfPe",
        "colab_type": "code",
        "colab": {},
        "outputId": "b9798065-4f88-4d1c-af6d-6852f5627fc3"
      },
      "source": [
        "txt = \"^^^knxakx768\"\n",
        "\n",
        "x = txt.isdigit()\n",
        "\n",
        "print(x)\n"
      ],
      "execution_count": null,
      "outputs": [
        {
          "output_type": "stream",
          "text": [
            "False\n"
          ],
          "name": "stdout"
        }
      ]
    },
    {
      "cell_type": "code",
      "metadata": {
        "id": "oKpdHiuvRfPi",
        "colab_type": "code",
        "colab": {},
        "outputId": "cfecb897-e881-4cf0-81d5-e2f649628260"
      },
      "source": [
        "txt = \"1 2 3 4 56 6 7\"\n",
        "\n",
        "x = txt.isdigit()\n",
        "\n",
        "print(x)\n"
      ],
      "execution_count": null,
      "outputs": [
        {
          "output_type": "stream",
          "text": [
            "False\n"
          ],
          "name": "stdout"
        }
      ]
    },
    {
      "cell_type": "code",
      "metadata": {
        "id": "Y8e0Jn9FRfPn",
        "colab_type": "code",
        "colab": {},
        "outputId": "1eab5398-172b-4d13-b218-77886772be0d"
      },
      "source": [
        "txt = \"radha\"\n",
        "\n",
        "x = txt.isidentifier()\n",
        "\n",
        "print(x)"
      ],
      "execution_count": null,
      "outputs": [
        {
          "output_type": "stream",
          "text": [
            "True\n"
          ],
          "name": "stdout"
        }
      ]
    },
    {
      "cell_type": "code",
      "metadata": {
        "id": "lkwXm60zRfPs",
        "colab_type": "code",
        "colab": {},
        "outputId": "ab757f79-61ec-47cd-da6c-06822dffb7e7"
      },
      "source": [
        "txt = \"1234\"\n",
        "\n",
        "x = txt.isidentifier()\n",
        "\n",
        "print(x)"
      ],
      "execution_count": null,
      "outputs": [
        {
          "output_type": "stream",
          "text": [
            "False\n"
          ],
          "name": "stdout"
        }
      ]
    },
    {
      "cell_type": "code",
      "metadata": {
        "id": "aOVvQV79RfPw",
        "colab_type": "code",
        "colab": {},
        "outputId": "97088381-fcf0-490c-b9f2-767e22bc0974"
      },
      "source": [
        "txt = \" \"\n",
        "\n",
        "x = txt.isidentifier()\n",
        "\n",
        "print(x)"
      ],
      "execution_count": null,
      "outputs": [
        {
          "output_type": "stream",
          "text": [
            "False\n"
          ],
          "name": "stdout"
        }
      ]
    },
    {
      "cell_type": "code",
      "metadata": {
        "id": "Yh__sfxNRfP0",
        "colab_type": "code",
        "colab": {},
        "outputId": "2fc5856e-26e3-47f5-f6a5-94056ed0b639"
      },
      "source": [
        "txt = \"radha123\"\n",
        "\n",
        "x = txt.isidentifier()\n",
        "\n",
        "print(x)"
      ],
      "execution_count": null,
      "outputs": [
        {
          "output_type": "stream",
          "text": [
            "True\n"
          ],
          "name": "stdout"
        }
      ]
    },
    {
      "cell_type": "code",
      "metadata": {
        "id": "4YTuyY_pRfP4",
        "colab_type": "code",
        "colab": {},
        "outputId": "34a417e9-3df8-424c-a47a-38b52c628d94"
      },
      "source": [
        "txt = \"*&^\"\n",
        "\n",
        "x = txt.isidentifier()\n",
        "\n",
        "print(x)"
      ],
      "execution_count": null,
      "outputs": [
        {
          "output_type": "stream",
          "text": [
            "False\n"
          ],
          "name": "stdout"
        }
      ]
    },
    {
      "cell_type": "code",
      "metadata": {
        "id": "tE_CngaARfQE",
        "colab_type": "code",
        "colab": {},
        "outputId": "a6f6cf13-160b-4619-da4d-79b2fa877e3e"
      },
      "source": [
        "txt = \"radha123\"\n",
        "\n",
        "x = txt.isidentifier()\n",
        "\n",
        "print(x)"
      ],
      "execution_count": null,
      "outputs": [
        {
          "output_type": "stream",
          "text": [
            "True\n"
          ],
          "name": "stdout"
        }
      ]
    },
    {
      "cell_type": "code",
      "metadata": {
        "id": "fH-I0kvSRfQK",
        "colab_type": "code",
        "colab": {},
        "outputId": "105a4b2c-fc1f-4ba3-9e2d-bd50faa26401"
      },
      "source": [
        "a = \"SPOAMDL\"\n",
        "b = \"1873831\"\n",
        "c = \"922KSFKSMD9u9213i1\"\n",
        "d = \"my den m  o\"\n",
        "\n",
        "print(a.isidentifier())\n",
        "print(b.isidentifier())\n",
        "print(c.isidentifier())\n",
        "print(d.isidentifier())"
      ],
      "execution_count": null,
      "outputs": [
        {
          "output_type": "stream",
          "text": [
            "True\n",
            "False\n",
            "False\n",
            "False\n"
          ],
          "name": "stdout"
        }
      ]
    },
    {
      "cell_type": "code",
      "metadata": {
        "id": "XKVAVuzyRfQN",
        "colab_type": "code",
        "colab": {},
        "outputId": "61b98d90-1985-4bfc-eb8e-20d57c12c61f"
      },
      "source": [
        "txt =\"JDMDlk  28492 dplmdl\"\n",
        "\n",
        "x = txt.islower()\n",
        "\n",
        "print(x)"
      ],
      "execution_count": null,
      "outputs": [
        {
          "output_type": "stream",
          "text": [
            "False\n"
          ],
          "name": "stdout"
        }
      ]
    },
    {
      "cell_type": "code",
      "metadata": {
        "id": "7MZ-30fKRfQT",
        "colab_type": "code",
        "colab": {},
        "outputId": "b9c59f20-c953-4866-da44-dc8da82bf62c"
      },
      "source": [
        "txt = \"KWDWMSLKMA23e93\"\n",
        "\n",
        "x = txt.isupper()\n",
        "\n",
        "print(x)\n"
      ],
      "execution_count": null,
      "outputs": [
        {
          "output_type": "stream",
          "text": [
            "False\n"
          ],
          "name": "stdout"
        }
      ]
    },
    {
      "cell_type": "code",
      "metadata": {
        "id": "cS-SSuxQRfQW",
        "colab_type": "code",
        "colab": {},
        "outputId": "9893e28e-497f-43da-acd8-245cee049bc6"
      },
      "source": [
        "txt = \"AFHKAF\"\n",
        "a = \"29482\"\n",
        "b = \"NSFJNA8274\"\n",
        "\n",
        "print(txt.isupper())\n",
        "print(a.isupper())\n",
        "print(b.isupper())"
      ],
      "execution_count": null,
      "outputs": [
        {
          "output_type": "stream",
          "text": [
            "True\n",
            "False\n",
            "True\n"
          ],
          "name": "stdout"
        }
      ]
    },
    {
      "cell_type": "code",
      "metadata": {
        "id": "X6G1rWMeRfQY",
        "colab_type": "code",
        "colab": {},
        "outputId": "3745c9cb-fcee-482e-b48a-012dcb2c34ab"
      },
      "source": [
        "txt = \"AFHKAF\"\n",
        "a = \"29482\"\n",
        "b = \"NSFJNA8274\"\n",
        "\n",
        "print(txt.islower())\n",
        "print(a.islower())\n",
        "print(b.islower())"
      ],
      "execution_count": null,
      "outputs": [
        {
          "output_type": "stream",
          "text": [
            "False\n",
            "False\n",
            "False\n"
          ],
          "name": "stdout"
        }
      ]
    },
    {
      "cell_type": "code",
      "metadata": {
        "id": "k46YVVNzRfQc",
        "colab_type": "code",
        "colab": {},
        "outputId": "914e9976-6fd8-4a7d-d3ec-3c29cce3e292"
      },
      "source": [
        "txt = \"AFHKAF\"\n",
        "a = \"29482\"\n",
        "b = \"NSFJNA8274\"\n",
        "\n",
        "print(txt.isnumeric())\n",
        "print(a.isnumeric())\n",
        "print(b.isnumeric())"
      ],
      "execution_count": null,
      "outputs": [
        {
          "output_type": "stream",
          "text": [
            "False\n",
            "True\n",
            "False\n"
          ],
          "name": "stdout"
        }
      ]
    },
    {
      "cell_type": "code",
      "metadata": {
        "id": "ikF4fdXxRfQf",
        "colab_type": "code",
        "colab": {},
        "outputId": "d8603406-3bf8-4357-927c-ade63cafb9f9"
      },
      "source": [
        "txt = \"     ihwkdm;   wjdod,   7239\"\n",
        "a = \"      \"\n",
        "b = \"NSFJNA8274     ndlOKDL;\"\n",
        "\n",
        "print(txt.isprintable())\n",
        "print(a.isprintable())\n",
        "print(b.isprintable())"
      ],
      "execution_count": null,
      "outputs": [
        {
          "output_type": "stream",
          "text": [
            "True\n",
            "True\n",
            "True\n"
          ],
          "name": "stdout"
        }
      ]
    },
    {
      "cell_type": "code",
      "metadata": {
        "id": "9_hbq2k_RfQj",
        "colab_type": "code",
        "colab": {},
        "outputId": "544447e7-5de9-41e9-9172-b12056ce802e"
      },
      "source": [
        "txt = \"82849 jododmldkkp384803 \"\n",
        "a = \"     \"\n",
        "b = \"wndkwm 39294 kdla 82492\"\n",
        "\n",
        "print(txt.isspace())\n",
        "print(a.isspace())\n",
        "print(b.isspace())"
      ],
      "execution_count": null,
      "outputs": [
        {
          "output_type": "stream",
          "text": [
            "False\n",
            "True\n",
            "False\n"
          ],
          "name": "stdout"
        }
      ]
    },
    {
      "cell_type": "code",
      "metadata": {
        "id": "QSbjnsdxRfQm",
        "colab_type": "code",
        "colab": {},
        "outputId": "0a63090a-3d43-4f77-9d20-57e1d4e89433"
      },
      "source": [
        "txt =  \"Hello, And Welcome To My World!\"\n",
        "\n",
        "a = \"29482\"\n",
        "b = \"NSFJNA8274\"\n",
        "\n",
        "print(txt.istitle())\n",
        "print(a.istitle())\n",
        "print(b.istitle())"
      ],
      "execution_count": null,
      "outputs": [
        {
          "output_type": "stream",
          "text": [
            "True\n",
            "False\n",
            "False\n"
          ],
          "name": "stdout"
        }
      ]
    },
    {
      "cell_type": "code",
      "metadata": {
        "id": "ftt6CyeqRfQo",
        "colab_type": "code",
        "colab": {},
        "outputId": "a71ffb5b-5e67-46a8-e6ab-d9aadc4a882f"
      },
      "source": [
        "str = (\"apple\", \"cat\", \"vicky\")\n",
        "txt = \"!\".join(str)\n",
        "print(txt)"
      ],
      "execution_count": null,
      "outputs": [
        {
          "output_type": "stream",
          "text": [
            "apple!cat!vicky\n"
          ],
          "name": "stdout"
        }
      ]
    },
    {
      "cell_type": "code",
      "metadata": {
        "id": "4xpBLnMqRfQr",
        "colab_type": "code",
        "colab": {},
        "outputId": "6eada729-b01c-4756-f4ac-710d3f5b4c68"
      },
      "source": [
        "lst = [\"apple\", \"city\", \"purple\"]\n",
        "print(lst)"
      ],
      "execution_count": null,
      "outputs": [
        {
          "output_type": "stream",
          "text": [
            "['apple', 'city', 'purple']\n"
          ],
          "name": "stdout"
        }
      ]
    },
    {
      "cell_type": "code",
      "metadata": {
        "id": "KxSn_fYXRfQu",
        "colab_type": "code",
        "colab": {},
        "outputId": "cef4428c-2bd6-4d30-b937-9676c35e9c12"
      },
      "source": [
        "lst = [\"apple\", \"city\", \"purple\"]\n",
        "print(lst[1])"
      ],
      "execution_count": null,
      "outputs": [
        {
          "output_type": "stream",
          "text": [
            "city\n"
          ],
          "name": "stdout"
        }
      ]
    },
    {
      "cell_type": "code",
      "metadata": {
        "id": "k_YZvyFrRfQw",
        "colab_type": "code",
        "colab": {},
        "outputId": "0a8be939-4c3f-4b20-840e-c96dd04221d3"
      },
      "source": [
        "lst = [\"apple\", \"city\", \"purple\"]\n",
        "print(lst[-2])"
      ],
      "execution_count": null,
      "outputs": [
        {
          "output_type": "stream",
          "text": [
            "city\n"
          ],
          "name": "stdout"
        }
      ]
    },
    {
      "cell_type": "code",
      "metadata": {
        "id": "kEIrJ2jlRfQz",
        "colab_type": "code",
        "colab": {},
        "outputId": "4b5f6293-ed81-4cb8-f68a-9b78dd720e02"
      },
      "source": [
        "lst = [\"apple\", \"city\", \"purple\", \"ndiwndow\", \"dhijdo\", \"hifjwo\", \"7731993\"]\n",
        "print(lst[2:5])"
      ],
      "execution_count": null,
      "outputs": [
        {
          "output_type": "stream",
          "text": [
            "['purple', 'ndiwndow', 'dhijdo']\n"
          ],
          "name": "stdout"
        }
      ]
    },
    {
      "cell_type": "code",
      "metadata": {
        "id": "0D3OO7a1RfQ1",
        "colab_type": "code",
        "colab": {},
        "outputId": "6353bcc2-ecc0-4bd3-e1f5-069446b11aa7"
      },
      "source": [
        "lst = [\"apple\", \"city\", \"purple\", \"ndiwndow\", \"dhijdo\", \"hifjwo\", \"7731993\"]\n",
        "print(lst[:5])"
      ],
      "execution_count": null,
      "outputs": [
        {
          "output_type": "stream",
          "text": [
            "['apple', 'city', 'purple', 'ndiwndow', 'dhijdo']\n"
          ],
          "name": "stdout"
        }
      ]
    },
    {
      "cell_type": "code",
      "metadata": {
        "id": "Bmn7a-pyRfQ3",
        "colab_type": "code",
        "colab": {},
        "outputId": "3fcdcfb0-13ce-48d0-cfc3-1cb9da800373"
      },
      "source": [
        "lst = [\"apple\", \"city\", \"purple\", \"ndiwndow\", \"dhijdo\", \"hifjwo\", \"7731993\"]\n",
        "print(lst[0:-3])"
      ],
      "execution_count": null,
      "outputs": [
        {
          "output_type": "stream",
          "text": [
            "['apple', 'city', 'purple', 'ndiwndow']\n"
          ],
          "name": "stdout"
        }
      ]
    },
    {
      "cell_type": "code",
      "metadata": {
        "id": "VIL1ZD7pRfQ7",
        "colab_type": "code",
        "colab": {},
        "outputId": "1eeec6cc-2f1e-40fe-b204-a954cea7d099"
      },
      "source": [
        "lst = [\"apple\", \"city\", \"purple\", \"ndiwndow\", \"dhijdo\", \"hifjwo\", \"7731993\"]\n",
        "print(lst[2:])"
      ],
      "execution_count": null,
      "outputs": [
        {
          "output_type": "stream",
          "text": [
            "['purple', 'ndiwndow', 'dhijdo', 'hifjwo', '7731993']\n"
          ],
          "name": "stdout"
        }
      ]
    },
    {
      "cell_type": "code",
      "metadata": {
        "id": "rSRL8jvDRfRB",
        "colab_type": "code",
        "colab": {},
        "outputId": "ad8120cc-c6ee-4ebc-da04-f87d1ba6fdf8"
      },
      "source": [
        "lst = [\"apple\", \"city\", \"purple\", \"ndiwndow\", \"dhijdo\", \"hifjwo\", \"7731993\"]\n",
        "print(lst[-4:-1])"
      ],
      "execution_count": null,
      "outputs": [
        {
          "output_type": "stream",
          "text": [
            "['ndiwndow', 'dhijdo', 'hifjwo']\n"
          ],
          "name": "stdout"
        }
      ]
    },
    {
      "cell_type": "code",
      "metadata": {
        "id": "cs6eglg6RfRG",
        "colab_type": "code",
        "colab": {},
        "outputId": "0d218f80-28b5-4933-b044-299bd826ae32"
      },
      "source": [
        "a = [\"radha\", \"madhavi\", \"revu\", \"ravi chandra\", \"krishna\"]\n",
        "a[3] = \"venkat\"\n",
        "print(a)"
      ],
      "execution_count": null,
      "outputs": [
        {
          "output_type": "stream",
          "text": [
            "['radha', 'madhavi', 'revu', 'venkat', 'krishna']\n"
          ],
          "name": "stdout"
        }
      ]
    },
    {
      "cell_type": "code",
      "metadata": {
        "id": "2B6ntClNRfRL",
        "colab_type": "code",
        "colab": {},
        "outputId": "159add1b-f924-4362-a28e-90c68730bc7a"
      },
      "source": [
        "a = [\"radha\", \"madhavi\", \"revu\", \"ravi chandra\", \"krishna\"]\n",
        "for x in a:\n",
        "    print(x)"
      ],
      "execution_count": null,
      "outputs": [
        {
          "output_type": "stream",
          "text": [
            "radha\n",
            "madhavi\n",
            "revu\n",
            "ravi chandra\n",
            "krishna\n"
          ],
          "name": "stdout"
        }
      ]
    },
    {
      "cell_type": "code",
      "metadata": {
        "id": "dNFE87fhRfRO",
        "colab_type": "code",
        "colab": {},
        "outputId": "00b434e8-b31f-4432-c18d-32f7e5f4fee3"
      },
      "source": [
        "thislist = [\"radha\", \"madhavi\", \"revu\"]\n",
        "if \"radha\" in thislist:\n",
        "    print(\"Yes, 'radha' is in the fruits list\")"
      ],
      "execution_count": null,
      "outputs": [
        {
          "output_type": "stream",
          "text": [
            "Yes, 'radha' is in the fruits list\n"
          ],
          "name": "stdout"
        }
      ]
    },
    {
      "cell_type": "code",
      "metadata": {
        "id": "vOdVFP3URfRS",
        "colab_type": "code",
        "colab": {},
        "outputId": "9dcb52e0-6b85-41c5-c1e2-1c4de109077c"
      },
      "source": [
        "a = [\"radha\", \"madhavi\", \"revu\", \"ravi chandra\", \"krishna\"]\n",
        "\n",
        "print(len(a))"
      ],
      "execution_count": null,
      "outputs": [
        {
          "output_type": "stream",
          "text": [
            "5\n"
          ],
          "name": "stdout"
        }
      ]
    },
    {
      "cell_type": "code",
      "metadata": {
        "id": "6XGHhqUVRfRV",
        "colab_type": "code",
        "colab": {},
        "outputId": "ff1067fd-d570-4391-f134-fa88d6bda488"
      },
      "source": [
        "a = [\"radha\", \"madhavi\", \"revu\", \"ravi chandra\", \"krishna\"]\n",
        "a.append(\"ravi\")\n",
        "print(a)"
      ],
      "execution_count": null,
      "outputs": [
        {
          "output_type": "stream",
          "text": [
            "['radha', 'madhavi', 'revu', 'ravi chandra', 'krishna', 'ravi']\n"
          ],
          "name": "stdout"
        }
      ]
    },
    {
      "cell_type": "code",
      "metadata": {
        "id": "Xoh8dWsURfRY",
        "colab_type": "code",
        "colab": {},
        "outputId": "683d5aba-9019-4359-b3c9-b876cf261251"
      },
      "source": [
        "a = [\"radha\", \"madhavi\", \"revu\", \"ravi chandra\", \"krishna\"]\n",
        "a.insert(2, \"ravi\")\n",
        "print(a)"
      ],
      "execution_count": null,
      "outputs": [
        {
          "output_type": "stream",
          "text": [
            "['radha', 'madhavi', 'ravi', 'revu', 'ravi chandra', 'krishna']\n"
          ],
          "name": "stdout"
        }
      ]
    },
    {
      "cell_type": "code",
      "metadata": {
        "id": "7d_pzR1hRfRf",
        "colab_type": "code",
        "colab": {},
        "outputId": "92f3e402-5b2b-4aaa-f8c8-47fb44f0d965"
      },
      "source": [
        "a = [\"radha\", \"madhavi\", \"revu\", \"ravi chandra\", \"krishna\"]\n",
        "a.remove(\"radha\")\n",
        "print(a)"
      ],
      "execution_count": null,
      "outputs": [
        {
          "output_type": "stream",
          "text": [
            "['madhavi', 'revu', 'ravi chandra', 'krishna']\n"
          ],
          "name": "stdout"
        }
      ]
    },
    {
      "cell_type": "code",
      "metadata": {
        "id": "C_0icjj5RfRj",
        "colab_type": "code",
        "colab": {},
        "outputId": "64bac339-c5dd-40f5-c7f1-5ff89338faa7"
      },
      "source": [
        "a = [\"radha\", \"madhavi\", \"revu\", \"ravi chandra\", \"krishna\"]\n",
        "a.pop()\n",
        "print(a)"
      ],
      "execution_count": null,
      "outputs": [
        {
          "output_type": "stream",
          "text": [
            "['radha', 'madhavi', 'revu', 'ravi chandra']\n"
          ],
          "name": "stdout"
        }
      ]
    },
    {
      "cell_type": "code",
      "metadata": {
        "id": "YA-V4SboRfRn",
        "colab_type": "code",
        "colab": {},
        "outputId": "836da028-6968-45fd-f2e0-81d141c6bb44"
      },
      "source": [
        "list = [\"radha\", \"madhavi\", \"revu\", \"ravi chandra\", \"krishna\"]\n",
        "del list[0]\n",
        "print(a)"
      ],
      "execution_count": null,
      "outputs": [
        {
          "output_type": "stream",
          "text": [
            "['radha', 'madhavi', 'revu', 'ravi chandra']\n"
          ],
          "name": "stdout"
        }
      ]
    },
    {
      "cell_type": "code",
      "metadata": {
        "id": "3-lcIichRfRp",
        "colab_type": "code",
        "colab": {}
      },
      "source": [
        ""
      ],
      "execution_count": null,
      "outputs": []
    }
  ]
}